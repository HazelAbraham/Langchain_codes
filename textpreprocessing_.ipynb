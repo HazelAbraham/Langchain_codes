{
  "nbformat": 4,
  "nbformat_minor": 0,
  "metadata": {
    "colab": {
      "provenance": [],
      "authorship_tag": "ABX9TyN2THvHA+zrAc7HH3qMidwe",
      "include_colab_link": true
    },
    "kernelspec": {
      "name": "python3",
      "display_name": "Python 3"
    },
    "language_info": {
      "name": "python"
    }
  },
  "cells": [
    {
      "cell_type": "markdown",
      "metadata": {
        "id": "view-in-github",
        "colab_type": "text"
      },
      "source": [
        "<a href=\"https://colab.research.google.com/github/HazelAbraham/Langchain_codes/blob/main/textpreprocessing_.ipynb\" target=\"_parent\"><img src=\"https://colab.research.google.com/assets/colab-badge.svg\" alt=\"Open In Colab\"/></a>"
      ]
    },
    {
      "cell_type": "code",
      "execution_count": 2,
      "metadata": {
        "id": "7hH99ecehrrS",
        "colab": {
          "base_uri": "https://localhost:8080/"
        },
        "outputId": "f62bd6fb-7b30-4fa9-85aa-9b4569253370"
      },
      "outputs": [
        {
          "output_type": "stream",
          "name": "stdout",
          "text": [
            "                                                  review sentiment\n",
            "0      One of the other reviewers has mentioned that ...  positive\n",
            "1      A wonderful little production. <br /><br />The...  positive\n",
            "2      I thought this was a wonderful way to spend ti...  positive\n",
            "3      Basically there's a family where a little boy ...  negative\n",
            "4      Petter Mattei's \"Love in the Time of Money\" is...  positive\n",
            "...                                                  ...       ...\n",
            "49995  I thought this movie did a down right good job...  positive\n",
            "49996  Bad plot, bad dialogue, bad acting, idiotic di...  negative\n",
            "49997  I am a Catholic taught in parochial elementary...  negative\n",
            "49998  I'm going to have to disagree with the previou...  negative\n",
            "49999  No one expects the Star Trek movies to be high...  negative\n",
            "\n",
            "[50000 rows x 2 columns]\n"
          ]
        }
      ],
      "source": [
        "import pandas  as pd\n",
        "d1=pd.read_csv(\"https://raw.githubusercontent.com/Ankit152/IMDB-sentiment-analysis/master/IMDB-Dataset.csv\")\n",
        "\n",
        "\n",
        "print(d1)"
      ]
    },
    {
      "cell_type": "code",
      "source": [
        "### Lowercasing\n",
        "d1['review'][3].lower()"
      ],
      "metadata": {
        "colab": {
          "base_uri": "https://localhost:8080/",
          "height": 124
        },
        "id": "9_SKUDIb7zY9",
        "outputId": "2441ddd3-c936-46f6-8287-9284d1bbb7f5"
      },
      "execution_count": 3,
      "outputs": [
        {
          "output_type": "execute_result",
          "data": {
            "text/plain": [
              "\"basically there's a family where a little boy (jake) thinks there's a zombie in his closet & his parents are fighting all the time.<br /><br />this movie is slower than a soap opera... and suddenly, jake decides to become rambo and kill the zombie.<br /><br />ok, first of all when you're going to make a film you must decide if its a thriller or a drama! as a drama the movie is watchable. parents are divorcing & arguing like in real life. and then we have jake with his closet which totally ruins all the film! i expected to see a boogeyman similar movie, and instead i watched a drama with some meaningless thriller spots.<br /><br />3 out of 10 just for the well playing parents & descent dialogs. as for the shots with jake: just ignore them.\""
            ],
            "application/vnd.google.colaboratory.intrinsic+json": {
              "type": "string"
            }
          },
          "metadata": {},
          "execution_count": 3
        }
      ]
    },
    {
      "cell_type": "code",
      "source": [
        "##  We have lowercase, uppercase\n",
        ".lower()\n",
        ".upper()"
      ],
      "metadata": {
        "id": "uNDXLZ_w8AJS"
      },
      "execution_count": null,
      "outputs": []
    },
    {
      "cell_type": "code",
      "source": [
        "### To tacke Html and the url  we have to tackle it using regx\n",
        "\n",
        "text=\"\"\"<!DOCTYPE html><html lang=\"en\"><head><meta\n",
        "charset=\"UTF-8\"><meta http-equiv=\"X-UA-Compatible\" content=\"IE=edge\"><meta\n",
        "name=\"viewport\" content=\"width=device-width,\n",
        "initial-scale=1.0\"><title>Welcome to My\n",
        "Website</title><style>body{font-family:'Arial',sans-serif;background-color\n",
        ":#f0f0f0;color:#333;margin:20px}h1{color:#007bff}p{line-height:1.5}</style\n",
        "></head><body><header><h1>Welcome to My Awesome\n",
        "Website!</h1></header><main><p>This is a sample HTML document created for\n",
        "demonstration purposes.</p><p>Feel free to explore and enjoy the content\n",
        "on this website.</p></main><footer><p>&copy; 2024 My Website. All rights\n",
        "reserved.</p></footer></body></html>\"\"\"\n",
        "\n",
        "\n",
        "import re\n",
        "def remove_html(text):\n",
        "  pattern=re.compile('<,*?>')\n",
        "  return pattern.sub(\"\",text)"
      ],
      "metadata": {
        "id": "glSZ1Gh483j0"
      },
      "execution_count": 5,
      "outputs": []
    },
    {
      "cell_type": "code",
      "source": [
        "remove_html(text)"
      ],
      "metadata": {
        "colab": {
          "base_uri": "https://localhost:8080/",
          "height": 106
        },
        "id": "WG_SqH8K9szH",
        "outputId": "266c16fe-04b7-4288-ebac-41e0d8a95688"
      },
      "execution_count": 6,
      "outputs": [
        {
          "output_type": "execute_result",
          "data": {
            "text/plain": [
              "'<!DOCTYPE html><html lang=\"en\"><head><meta\\ncharset=\"UTF-8\"><meta http-equiv=\"X-UA-Compatible\" content=\"IE=edge\"><meta\\nname=\"viewport\" content=\"width=device-width,\\ninitial-scale=1.0\"><title>Welcome to My\\nWebsite</title><style>body{font-family:\\'Arial\\',sans-serif;background-color\\n:#f0f0f0;color:#333;margin:20px}h1{color:#007bff}p{line-height:1.5}</style\\n></head><body><header><h1>Welcome to My Awesome\\nWebsite!</h1></header><main><p>This is a sample HTML document created for\\ndemonstration purposes.</p><p>Feel free to explore and enjoy the content\\non this website.</p></main><footer><p>&copy; 2024 My Website. All rights\\nreserved.</p></footer></body></html>'"
            ],
            "application/vnd.google.colaboratory.intrinsic+json": {
              "type": "string"
            }
          },
          "metadata": {},
          "execution_count": 6
        }
      ]
    },
    {
      "cell_type": "code",
      "source": [
        "### Remove of the  punctuation..\n",
        "text=\" Dubai  is one of the best @ places  with zero Taxes !!!\"\n",
        "import string\n",
        "exclude = string.punctuation\n",
        "def remove_punc(text):\n",
        "  for char in exclude:\n",
        "    text=text.replace(char ,\"\")\n",
        "    return text"
      ],
      "metadata": {
        "id": "DLntPv7v-All"
      },
      "execution_count": 12,
      "outputs": []
    },
    {
      "cell_type": "code",
      "source": [
        "remove_punc(text)"
      ],
      "metadata": {
        "colab": {
          "base_uri": "https://localhost:8080/",
          "height": 35
        },
        "id": "7p3L5FAGI-WJ",
        "outputId": "442417a2-b405-4139-985f-b52916ec2ad0"
      },
      "execution_count": 13,
      "outputs": [
        {
          "output_type": "execute_result",
          "data": {
            "text/plain": [
              "' Dubai  is one of the best @ places  with zero Taxes '"
            ],
            "application/vnd.google.colaboratory.intrinsic+json": {
              "type": "string"
            }
          },
          "metadata": {},
          "execution_count": 13
        }
      ]
    },
    {
      "cell_type": "code",
      "source": [
        "## Text preprocessing ,\n",
        "## nltk , spacy , textblob\n",
        "\n",
        "\n",
        "text=\"thsi is my oreptocsisng pelas download this\"\n",
        "from textblob import TextBlob\n",
        "textblob=TextBlob(text)\n",
        "textblob.correct().string\n",
        "\n",
        "\n",
        "## Backend  not  able  to corrcet this..\n",
        "## This textblob works on a simple text ..\n",
        "\n",
        "### Frm nltk we can get the corpus  or the stopwords..\n",
        "\n",
        "\n",
        "\n"
      ],
      "metadata": {
        "colab": {
          "base_uri": "https://localhost:8080/",
          "height": 35
        },
        "id": "RwnlG-kSJA5g",
        "outputId": "f7fe1b3c-92b0-4bd4-b33f-9e17e55ae105"
      },
      "execution_count": 14,
      "outputs": [
        {
          "output_type": "execute_result",
          "data": {
            "text/plain": [
              "'this is my oreptocsisng pleas download this'"
            ],
            "application/vnd.google.colaboratory.intrinsic+json": {
              "type": "string"
            }
          },
          "metadata": {},
          "execution_count": 14
        }
      ]
    },
    {
      "cell_type": "code",
      "source": [
        "## Can I perform  word tokenizatio using Regex\n",
        "\n",
        "\n",
        "text=\"Hi my name is Baby I will be joing Emraties as a  Data Analytics Insights  from Feb 2026.\"\n",
        "import re\n",
        "re.findall(\"[\\w]+\", text)\n"
      ],
      "metadata": {
        "colab": {
          "base_uri": "https://localhost:8080/"
        },
        "id": "M9LrjwqNUQkz",
        "outputId": "41504aa0-a760-4bf3-8654-ca98ee8cbd79"
      },
      "execution_count": 15,
      "outputs": [
        {
          "output_type": "stream",
          "name": "stderr",
          "text": [
            "<>:6: SyntaxWarning: invalid escape sequence '\\w'\n",
            "<>:6: SyntaxWarning: invalid escape sequence '\\w'\n",
            "/tmp/ipython-input-3016131533.py:6: SyntaxWarning: invalid escape sequence '\\w'\n",
            "  re.findall(\"[\\w]+\", text)\n"
          ]
        },
        {
          "output_type": "execute_result",
          "data": {
            "text/plain": [
              "['Hi',\n",
              " 'my',\n",
              " 'name',\n",
              " 'is',\n",
              " 'Baby',\n",
              " 'I',\n",
              " 'will',\n",
              " 'be',\n",
              " 'joing',\n",
              " 'Emraties',\n",
              " 'as',\n",
              " 'a',\n",
              " 'Data',\n",
              " 'Analytics',\n",
              " 'Insights',\n",
              " 'from',\n",
              " 'Feb',\n",
              " '2026']"
            ]
          },
          "metadata": {},
          "execution_count": 15
        }
      ]
    },
    {
      "cell_type": "code",
      "source": [
        "###  we have seen tow ways .. the split method or tokenzation"
      ],
      "metadata": {
        "id": "g952Nfn1VK-U"
      },
      "execution_count": null,
      "outputs": []
    }
  ]
}